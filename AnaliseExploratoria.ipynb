{
 "cells": [
  {
   "attachments": {},
   "cell_type": "markdown",
   "metadata": {},
   "source": [
    "# Análise exploratoria\n",
    "\n",
    "## Análise de notas:\n",
    "O objetivo desta analise é  observar como as avaliações estão dispostas por gênero de filme.\n",
    "\n",
    "### Histograma da contagem de notas maiores ou iguais a três por gênero de filme.\n",
    "\n",
    "![title](histogramWithRatesDividedBetweenLowerThanThreeAndEqualOrGreaterThanThreeByGenreMovie.png)\n",
    "\n",
    "Ao analisar este histograma pode-se observar que a maioria dos usuarios da notas altas para os filmes independente do gênero.\n",
    "\n",
    "### Matriz mostrando a relação de generos de filmes mais votados por usuarios que mais votaram em um determinado genero de filme\n",
    "\n",
    "![title](matrixWithPlotThatShowThePercentageOfMoviesGenresMoreViewedByPeopleThatViewMoreOneMovieGenre.png)\n",
    "\n",
    "Cada gênero de filme foi transformado para um número inteiro que vai de a 19, para assim mapea-lo para linhas e colunas da matriz mostrada antes. A tabela a seguir mostra esta relação.\n",
    "\n",
    "| Gênero de filme   | Número mapeado   |\n",
    "|-------------------|------------------|\n",
    "|(no genres listed) | 0                |\n",
    "| Action            | 1                |\n",
    "| Adventure         | 2                |\n",
    "| Animation         | 3                |\n",
    "| Children          | 4                | \n",
    "| Comedy            | 5                |\n",
    "| Crime             | 6                |\n",
    "| Documentary       | 7                |\n",
    "| Drama             | 8                |\n",
    "| Fantasy           | 9                |\n",
    "| Film-Noir         | 10               |\n",
    "| Horror            | 11               |\n",
    "| IMAX              | 12               |\n",
    "| Musical           | 13               |\n",
    "| Mystery           | 14               |\n",
    "| Romance           | 15               |\n",
    "| Sci-Fi            | 16               |\n",
    "| Thriller          | 17               |\n",
    "| War               | 18               |\n",
    "| Western           | 19               |\n",
    "\n",
    "\n",
    "\n",
    "Nesta matriz cada a linha indica um grupo de usuarios, este grupo é formado com base no gênero de filme mais votado pelos usuarios. As linhas da matriz indicam portanto gênero de filme mais votado. Deste modo a celula i,j representa a porcentagem de usuarios do grupo i que votaram no gênero j, considerando-se  i como o indice do número de linhas da matriz e j como o indice das colunas da matriz. Por esta razão pode-se ver que as celulas da diagonal da matriz possuem os maiores valores. \n",
    "\n",
    "\n",
    "Foram computados apenas os votos maiores ou iguais a três, pois considerou-se apenas votos maiores ou iguais a três como avaliações positivas.  \n",
    "\n",
    "\n",
    "\n",
    "## Análise de Genome-Scores\n",
    "O objetivo desta análise é ver o quanto é o ganho das componentes principais dos descritores Genome-Scores, para diminuir a dimensionalidade dos descritores Genome-Scores. Oque a PCA faz é recombinar descritores de modo que os descritores da PCA que estão no inicio do vetor da PCA possuem o maiores ganhos de informação do que descritores que estão no final do vetor. A seguir esta um gráfico mostrando o ganho de informação por número de componentes de PCA utilizados. \n",
    "\n",
    "### Ganho das primeiras N componentes da PCA \n",
    "![title](informationPCA.svg)\n",
    "\n",
    "Observando este gráfico pode-se notar que utilizando os componentes da PCA pode-se reduzir o número de dimensões para um terço sem muita perda de informação.\n",
    "\n",
    "\n",
    "\n"
   ]
  },
  {
   "cell_type": "markdown",
   "metadata": {},
   "source": [
    "# Modelagem para de um banco de dados relacional dos dados contidos na base de dados\n",
    "\n",
    "Para facilitar a manipulação dos dados da base ml-20m foi criado um banco de dados relacional no MySQL. A seguir esta o diagrama do banco.\n",
    "\n",
    "![title](databaseERDiagram.svg)\n",
    "\n",
    "\n",
    "O elemento idrand da tabela ratings é utilizado para que com um baixo custo computacional seja possível fazer um consulta que traga elementos aleatorios desta tabela.\n",
    "\n",
    "\n"
   ]
  },
  {
   "cell_type": "code",
   "execution_count": null,
   "metadata": {},
   "outputs": [],
   "source": []
  }
 ],
 "metadata": {
  "kernelspec": {
   "display_name": "Python 3",
   "language": "python",
   "name": "python3"
  },
  "language_info": {
   "codemirror_mode": {
    "name": "ipython",
    "version": 3
   },
   "file_extension": ".py",
   "mimetype": "text/x-python",
   "name": "python",
   "nbconvert_exporter": "python",
   "pygments_lexer": "ipython3",
   "version": "3.5.1+"
  }
 },
 "nbformat": 4,
 "nbformat_minor": 2
}
